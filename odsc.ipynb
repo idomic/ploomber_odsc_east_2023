{
 "cells": [
  {
   "cell_type": "markdown",
   "id": "9ceaaf83",
   "metadata": {},
   "source": [
    "# SQL Driven Machine Learning Tutorial: Customer Churn Prediction\n",
    "In this tutorial, we will walk through an example of using SQL-driven machine learning to predict customer churn. We will be using the [JupySQL](https://github.com/ploomber/jupysql) package to run SQL queries within a Jupyter Notebook and a public dataset available on Kaggle.\n",
    "\n",
    "Customer churn is a classification problem. In customer churn prediction, the goal is to classify customers into two categories: \n",
    "those who will churn (leave the company) and those who will not churn (remain with the company). \n",
    "\n",
    "This is a binary classification problem since there are only two possible outcomes (churn or not churn) for each customer.\n",
    "\n",
    "\n",
    "## Table of Content:\n",
    "1. Introduction of the problem, use case, and background story. \n",
    "2. Introduction to JupySQL and the dataset.\n",
    "3. EDA + fitting the model \n",
    "4. Generating a stakeholder report\n",
    "5. Questions and Answers\n",
    "\n",
    "## Prerequisites\n",
    "- Install and run a Jupyter Lab instance\n",
    "- Install the JupySQL package using pip:"
   ]
  },
  {
   "cell_type": "code",
   "execution_count": 44,
   "id": "34a82744",
   "metadata": {
    "tags": []
   },
   "outputs": [
    {
     "name": "stdout",
     "output_type": "stream",
     "text": [
      "Note: you may need to restart the kernel to use updated packages.\n",
      "Installed successfully\n"
     ]
    }
   ],
   "source": [
    "try:\n",
    "    %pip install jupysql duckdb duckdb-engine seaborn scikit-learn xgboost --upgrade -q\n",
    "    print(\"Installed successfully\")\n",
    "except:\n",
    "    print(\"Retry installing\")"
   ]
  },
  {
   "cell_type": "code",
   "execution_count": 45,
   "id": "f0890bcd",
   "metadata": {
    "tags": []
   },
   "outputs": [],
   "source": [
    "import duckdb\n",
    "import pandas as pd\n",
    "import seaborn as sns\n",
    "import matplotlib.pyplot as plt\n",
    "from sklearn.preprocessing import LabelEncoder\n",
    "from sklearn.linear_model import LogisticRegression\n",
    "from sklearn.metrics import accuracy_score, classification_report, confusion_matrix, roc_curve, auc\n",
    "from sklearn.model_selection import train_test_split, GridSearchCV\n",
    "from sklearn.ensemble import RandomForestClassifier\n",
    "from sklearn_evaluation import plot, table\n",
    "from sklearn_evaluation.plot import Rank1D, Rank2D\n",
    "from urllib.request import urlretrieve"
   ]
  },
  {
   "cell_type": "markdown",
   "id": "d97a47c7",
   "metadata": {},
   "source": [
    "We'll download the Telco Customer Churn dataset from Kaggle (I found a Github link) and save it as `churn.csv`.\n",
    "\n",
    "## Initial setup\n",
    "First, let's load the JupySQL extension and connect to an SQLite database in memory."
   ]
  },
  {
   "cell_type": "code",
   "execution_count": 46,
   "id": "bb4c96d7",
   "metadata": {
    "tags": []
   },
   "outputs": [
    {
     "name": "stdout",
     "output_type": "stream",
     "text": [
      "The sql extension is already loaded. To reload it, use:\n",
      "  %reload_ext sql\n"
     ]
    }
   ],
   "source": [
    "%load_ext sql\n",
    "%sql duckdb://"
   ]
  },
  {
   "cell_type": "markdown",
   "id": "6ef622a6",
   "metadata": {},
   "source": [
    "### Import the dataset\n",
    "Now we will import the dataset into a new table called customer_churn."
   ]
  },
  {
   "cell_type": "code",
   "execution_count": 47,
   "id": "3ce3284f-e9d8-46c6-bca3-cfe92473f6bb",
   "metadata": {
    "tags": []
   },
   "outputs": [],
   "source": [
    "_ = urlretrieve(\n",
    "    \"https://raw.githubusercontent.com/treselle-systems/customer_churn_analysis/master/WA_Fn-UseC_-Telco-Customer-Churn.csv\",\n",
    "    \"churn.csv\",\n",
    ")"
   ]
  },
  {
   "cell_type": "markdown",
   "id": "bf990652-d789-47af-82da-cce6471b0e0e",
   "metadata": {},
   "source": [
    "We can try querying the data and see it works, which means the engine is connected, my data is there locally.\n"
   ]
  },
  {
   "cell_type": "code",
   "execution_count": 48,
   "id": "b9095dc9-e561-4a9a-8a03-fa4b6417b55c",
   "metadata": {
    "tags": []
   },
   "outputs": [
    {
     "name": "stdout",
     "output_type": "stream",
     "text": [
      "*  duckdb://\n",
      "Done.\n"
     ]
    },
    {
     "data": {
      "text/html": [
       "<table>\n",
       "    <thead>\n",
       "        <tr>\n",
       "            <th>customerID</th>\n",
       "            <th>gender</th>\n",
       "            <th>SeniorCitizen</th>\n",
       "            <th>Partner</th>\n",
       "            <th>Dependents</th>\n",
       "            <th>tenure</th>\n",
       "            <th>PhoneService</th>\n",
       "            <th>MultipleLines</th>\n",
       "            <th>InternetService</th>\n",
       "            <th>OnlineSecurity</th>\n",
       "            <th>OnlineBackup</th>\n",
       "            <th>DeviceProtection</th>\n",
       "            <th>TechSupport</th>\n",
       "            <th>StreamingTV</th>\n",
       "            <th>StreamingMovies</th>\n",
       "            <th>Contract</th>\n",
       "            <th>PaperlessBilling</th>\n",
       "            <th>PaymentMethod</th>\n",
       "            <th>MonthlyCharges</th>\n",
       "            <th>TotalCharges</th>\n",
       "            <th>Churn</th>\n",
       "        </tr>\n",
       "    </thead>\n",
       "    <tbody>\n",
       "        <tr>\n",
       "            <td>7590-VHVEG</td>\n",
       "            <td>Female</td>\n",
       "            <td>0</td>\n",
       "            <td>Yes</td>\n",
       "            <td>No</td>\n",
       "            <td>1</td>\n",
       "            <td>No</td>\n",
       "            <td>No phone service</td>\n",
       "            <td>DSL</td>\n",
       "            <td>No</td>\n",
       "            <td>Yes</td>\n",
       "            <td>No</td>\n",
       "            <td>No</td>\n",
       "            <td>No</td>\n",
       "            <td>No</td>\n",
       "            <td>Month-to-month</td>\n",
       "            <td>Yes</td>\n",
       "            <td>Electronic check</td>\n",
       "            <td>29.85</td>\n",
       "            <td>29.85</td>\n",
       "            <td>No</td>\n",
       "        </tr>\n",
       "        <tr>\n",
       "            <td>5575-GNVDE</td>\n",
       "            <td>Male</td>\n",
       "            <td>0</td>\n",
       "            <td>No</td>\n",
       "            <td>No</td>\n",
       "            <td>34</td>\n",
       "            <td>Yes</td>\n",
       "            <td>No</td>\n",
       "            <td>DSL</td>\n",
       "            <td>Yes</td>\n",
       "            <td>No</td>\n",
       "            <td>Yes</td>\n",
       "            <td>No</td>\n",
       "            <td>No</td>\n",
       "            <td>No</td>\n",
       "            <td>One year</td>\n",
       "            <td>No</td>\n",
       "            <td>Mailed check</td>\n",
       "            <td>56.95</td>\n",
       "            <td>1889.5</td>\n",
       "            <td>No</td>\n",
       "        </tr>\n",
       "        <tr>\n",
       "            <td>3668-QPYBK</td>\n",
       "            <td>Male</td>\n",
       "            <td>0</td>\n",
       "            <td>No</td>\n",
       "            <td>No</td>\n",
       "            <td>2</td>\n",
       "            <td>Yes</td>\n",
       "            <td>No</td>\n",
       "            <td>DSL</td>\n",
       "            <td>Yes</td>\n",
       "            <td>Yes</td>\n",
       "            <td>No</td>\n",
       "            <td>No</td>\n",
       "            <td>No</td>\n",
       "            <td>No</td>\n",
       "            <td>Month-to-month</td>\n",
       "            <td>Yes</td>\n",
       "            <td>Mailed check</td>\n",
       "            <td>53.85</td>\n",
       "            <td>108.15</td>\n",
       "            <td>Yes</td>\n",
       "        </tr>\n",
       "    </tbody>\n",
       "</table>"
      ],
      "text/plain": [
       "[('7590-VHVEG', 'Female', 0, 'Yes', 'No', 1, 'No', 'No phone service', 'DSL', 'No', 'Yes', 'No', 'No', 'No', 'No', 'Month-to-month', 'Yes', 'Electronic check', 29.85, '29.85', 'No'),\n",
       " ('5575-GNVDE', 'Male', 0, 'No', 'No', 34, 'Yes', 'No', 'DSL', 'Yes', 'No', 'Yes', 'No', 'No', 'No', 'One year', 'No', 'Mailed check', 56.95, '1889.5', 'No'),\n",
       " ('3668-QPYBK', 'Male', 0, 'No', 'No', 2, 'Yes', 'No', 'DSL', 'Yes', 'Yes', 'No', 'No', 'No', 'No', 'Month-to-month', 'Yes', 'Mailed check', 53.85, '108.15', 'Yes')]"
      ]
     },
     "execution_count": 48,
     "metadata": {},
     "output_type": "execute_result"
    }
   ],
   "source": [
    "%%sql\n",
    "SELECT * FROM churn.csv LIMIT 3;"
   ]
  },
  {
   "cell_type": "markdown",
   "id": "98beb754-63b5-4932-8704-c43294bba980",
   "metadata": {},
   "source": [
    "Before diving into the machine learning process, let's explore the dataset to get a better understanding of the features and target variable."
   ]
  },
  {
   "cell_type": "markdown",
   "id": "571b3355-a149-4fe4-ac68-4373c091b509",
   "metadata": {},
   "source": [
    "Total number of rows in our dataset"
   ]
  },
  {
   "cell_type": "code",
   "execution_count": 49,
   "id": "8b017fd3-f6bd-463e-828c-82e14819bb9e",
   "metadata": {
    "tags": []
   },
   "outputs": [
    {
     "name": "stdout",
     "output_type": "stream",
     "text": [
      "*  duckdb://\n",
      "Done.\n"
     ]
    },
    {
     "data": {
      "text/html": [
       "<table>\n",
       "    <thead>\n",
       "        <tr>\n",
       "            <th>num_rows</th>\n",
       "        </tr>\n",
       "    </thead>\n",
       "    <tbody>\n",
       "        <tr>\n",
       "            <td>7043</td>\n",
       "        </tr>\n",
       "    </tbody>\n",
       "</table>"
      ],
      "text/plain": [
       "[(7043,)]"
      ]
     },
     "execution_count": 49,
     "metadata": {},
     "output_type": "execute_result"
    }
   ],
   "source": [
    "%sql SELECT COUNT(*) AS num_rows FROM churn.csv;"
   ]
  },
  {
   "cell_type": "markdown",
   "id": "d04fa951-7c09-4003-8733-33cf5d548973",
   "metadata": {},
   "source": [
    "Total number of columns in our dataset"
   ]
  },
  {
   "cell_type": "markdown",
   "id": "3b8317ca",
   "metadata": {},
   "source": [
    "Before diving into the machine learning process, let's explore the dataset to get a better understanding of the features and target variable."
   ]
  },
  {
   "cell_type": "code",
   "execution_count": 50,
   "id": "da3b5793",
   "metadata": {
    "tags": []
   },
   "outputs": [],
   "source": [
    "_ = urlretrieve(\n",
    "    \"https://raw.githubusercontent.com/treselle-systems/customer_churn_analysis/master/WA_Fn-UseC_-Telco-Customer-Churn.csv\",\n",
    "    \"churn.csv\",\n",
    ")"
   ]
  },
  {
   "cell_type": "markdown",
   "id": "05da5464",
   "metadata": {},
   "source": [
    "We can try querying the data and see it works, which means the engine is connected, my data is there locally."
   ]
  },
  {
   "cell_type": "code",
   "execution_count": 51,
   "id": "b0548a61",
   "metadata": {
    "tags": []
   },
   "outputs": [
    {
     "name": "stdout",
     "output_type": "stream",
     "text": [
      "*  duckdb://\n",
      "Done.\n"
     ]
    },
    {
     "data": {
      "text/html": [
       "<table>\n",
       "    <thead>\n",
       "        <tr>\n",
       "            <th>customerID</th>\n",
       "            <th>gender</th>\n",
       "            <th>SeniorCitizen</th>\n",
       "            <th>Partner</th>\n",
       "            <th>Dependents</th>\n",
       "            <th>tenure</th>\n",
       "            <th>PhoneService</th>\n",
       "            <th>MultipleLines</th>\n",
       "            <th>InternetService</th>\n",
       "            <th>OnlineSecurity</th>\n",
       "            <th>OnlineBackup</th>\n",
       "            <th>DeviceProtection</th>\n",
       "            <th>TechSupport</th>\n",
       "            <th>StreamingTV</th>\n",
       "            <th>StreamingMovies</th>\n",
       "            <th>Contract</th>\n",
       "            <th>PaperlessBilling</th>\n",
       "            <th>PaymentMethod</th>\n",
       "            <th>MonthlyCharges</th>\n",
       "            <th>TotalCharges</th>\n",
       "            <th>Churn</th>\n",
       "        </tr>\n",
       "    </thead>\n",
       "    <tbody>\n",
       "        <tr>\n",
       "            <td>7590-VHVEG</td>\n",
       "            <td>Female</td>\n",
       "            <td>0</td>\n",
       "            <td>Yes</td>\n",
       "            <td>No</td>\n",
       "            <td>1</td>\n",
       "            <td>No</td>\n",
       "            <td>No phone service</td>\n",
       "            <td>DSL</td>\n",
       "            <td>No</td>\n",
       "            <td>Yes</td>\n",
       "            <td>No</td>\n",
       "            <td>No</td>\n",
       "            <td>No</td>\n",
       "            <td>No</td>\n",
       "            <td>Month-to-month</td>\n",
       "            <td>Yes</td>\n",
       "            <td>Electronic check</td>\n",
       "            <td>29.85</td>\n",
       "            <td>29.85</td>\n",
       "            <td>No</td>\n",
       "        </tr>\n",
       "        <tr>\n",
       "            <td>5575-GNVDE</td>\n",
       "            <td>Male</td>\n",
       "            <td>0</td>\n",
       "            <td>No</td>\n",
       "            <td>No</td>\n",
       "            <td>34</td>\n",
       "            <td>Yes</td>\n",
       "            <td>No</td>\n",
       "            <td>DSL</td>\n",
       "            <td>Yes</td>\n",
       "            <td>No</td>\n",
       "            <td>Yes</td>\n",
       "            <td>No</td>\n",
       "            <td>No</td>\n",
       "            <td>No</td>\n",
       "            <td>One year</td>\n",
       "            <td>No</td>\n",
       "            <td>Mailed check</td>\n",
       "            <td>56.95</td>\n",
       "            <td>1889.5</td>\n",
       "            <td>No</td>\n",
       "        </tr>\n",
       "        <tr>\n",
       "            <td>3668-QPYBK</td>\n",
       "            <td>Male</td>\n",
       "            <td>0</td>\n",
       "            <td>No</td>\n",
       "            <td>No</td>\n",
       "            <td>2</td>\n",
       "            <td>Yes</td>\n",
       "            <td>No</td>\n",
       "            <td>DSL</td>\n",
       "            <td>Yes</td>\n",
       "            <td>Yes</td>\n",
       "            <td>No</td>\n",
       "            <td>No</td>\n",
       "            <td>No</td>\n",
       "            <td>No</td>\n",
       "            <td>Month-to-month</td>\n",
       "            <td>Yes</td>\n",
       "            <td>Mailed check</td>\n",
       "            <td>53.85</td>\n",
       "            <td>108.15</td>\n",
       "            <td>Yes</td>\n",
       "        </tr>\n",
       "    </tbody>\n",
       "</table>"
      ],
      "text/plain": [
       "[('7590-VHVEG', 'Female', 0, 'Yes', 'No', 1, 'No', 'No phone service', 'DSL', 'No', 'Yes', 'No', 'No', 'No', 'No', 'Month-to-month', 'Yes', 'Electronic check', 29.85, '29.85', 'No'),\n",
       " ('5575-GNVDE', 'Male', 0, 'No', 'No', 34, 'Yes', 'No', 'DSL', 'Yes', 'No', 'Yes', 'No', 'No', 'No', 'One year', 'No', 'Mailed check', 56.95, '1889.5', 'No'),\n",
       " ('3668-QPYBK', 'Male', 0, 'No', 'No', 2, 'Yes', 'No', 'DSL', 'Yes', 'Yes', 'No', 'No', 'No', 'No', 'Month-to-month', 'Yes', 'Mailed check', 53.85, '108.15', 'Yes')]"
      ]
     },
     "execution_count": 51,
     "metadata": {},
     "output_type": "execute_result"
    }
   ],
   "source": [
    "%%sql\n",
    "SELECT * FROM churn.csv LIMIT 3;"
   ]
  },
  {
   "cell_type": "markdown",
   "id": "8b41e1f9-e5b7-42af-8d67-6e9b5632d0f4",
   "metadata": {
    "tags": []
   },
   "source": [
    "## Exploratory Data Analysis (EDA)\n",
    "Before diving into data preprocessing and model training, let's perform some exploratory data analysis (EDA) to gain insights into the dataset and identify potential relationships between features and the target variable (customer churn).\n",
    "\n",
    "Summary statistics\n",
    "Let's start by calculating summary statistics for the numerical columns in the dataset.\n",
    "\n",
    "## Dataset information\n",
    "#### 1. Demographic Information\n",
    "\n",
    "- `gender`: Whether the client is a female or a male (Female, Male).\n",
    "- `SeniorCitizen`: Whether the client is a senior citizen or not ( 0, 1).\n",
    "- `Partner`: Whether the client has a partner or not (Yes, No).\n",
    "- `Dependents`: Whether the client has dependents or not (Yes, No).\n",
    "\n",
    "#### 2. Customer Account Information\n",
    "\n",
    "- `tenure`: Number of months the customer has stayed with the company (Multiple different numeric values).\n",
    "- `Contract`: Indicates the customer’s current contract type (Month-to-Month, One year, Two year).\n",
    "- `PaperlessBilling`: Whether the client has paperless billing or not (Yes, No).\n",
    "- `PaymentMethod`: The customer’s payment method (Electronic check, Mailed check, Bank transfer (automatic), Credit Card (automatic)).\n",
    "- `MontlyCharges`: The amount charged to the customer monthly (Multiple different numeric values).\n",
    "- `TotalCharges`: The total amount charged to the customer (Multiple different numeric values).\n",
    "\n",
    "#### 3. Services Information\n",
    "\n",
    "- `PhoneService`: Whether the client has a phone service or not (Yes, No).\n",
    "- `MultipleLines`: Whether the client has multiple lines or not (No phone service, No, Yes).\n",
    "- `InternetServices`: Whether the client is subscribed to Internet service with the company (DSL, Fiber optic, No)\n",
    "- `OnlineSecurity`: Whether the client has online security or not (No internet service, No, Yes).\n",
    "- `OnlineBackup`: Whether the client has online backup or not (No internet service, No, Yes).\n",
    "- `DeviceProtection`: Whether the client has device protection or not (No internet service, No, Yes).\n",
    "- `TechSupport`: Whether the client has tech support or not (No internet service, No, Yes).\n",
    "- `StreamingTV`: Whether the client has streaming TV or not (No internet service, No, Yes).\n",
    "- `StreamingMovies`: Whether the client has streaming movies or not (No internet service, No, Yes)."
   ]
  },
  {
   "cell_type": "code",
   "execution_count": 52,
   "id": "44face29",
   "metadata": {
    "tags": []
   },
   "outputs": [
    {
     "name": "stdout",
     "output_type": "stream",
     "text": [
      "*  duckdb://\n",
      "(duckdb.BinderException) Binder Error: No function matches the given name and argument types 'avg(VARCHAR)'. You might need to add explicit type casts.\n",
      "\tCandidate functions:\n",
      "\tavg(DECIMAL) -> DECIMAL\n",
      "\tavg(SMALLINT) -> DOUBLE\n",
      "\tavg(INTEGER) -> DOUBLE\n",
      "\tavg(BIGINT) -> DOUBLE\n",
      "\tavg(HUGEINT) -> DOUBLE\n",
      "\tavg(DOUBLE) -> DOUBLE\n",
      "\n",
      "LINE 4:     AVG(TotalCharges) AS avg_TotalCharges\n",
      "            ^\n",
      "[SQL: SELECT\n",
      "    AVG(tenure) AS avg_tenure,\n",
      "    AVG(MonthlyCharges) AS avg_MonthlyCharges,\n",
      "    AVG(TotalCharges) AS avg_TotalCharges\n",
      "FROM\n",
      "    churn.csv;]\n",
      "(Background on this error at: https://sqlalche.me/e/20/f405)\n"
     ]
    }
   ],
   "source": [
    "%%sql\n",
    "SELECT\n",
    "    AVG(tenure) AS avg_tenure,\n",
    "    AVG(MonthlyCharges) AS avg_MonthlyCharges,\n",
    "    AVG(TotalCharges) AS avg_TotalCharges\n",
    "FROM\n",
    "    churn.csv;"
   ]
  },
  {
   "cell_type": "markdown",
   "id": "a31492f1",
   "metadata": {
    "tags": []
   },
   "source": [
    "### First problem!\n",
    "It appears that the `TotalCharges` column is being treated as a `VARCHAR` instead of a `numeric data type`. To address this issue, let's cast the `TotalCharges` column to a numeric data type before querying and calculating the average.\n",
    "\n",
    "First, let's find out if there are any non-numeric values in the TotalCharges column:"
   ]
  },
  {
   "cell_type": "code",
   "execution_count": 53,
   "id": "415884ad",
   "metadata": {
    "tags": []
   },
   "outputs": [
    {
     "name": "stdout",
     "output_type": "stream",
     "text": [
      "*  duckdb://\n",
      "Done.\n"
     ]
    },
    {
     "data": {
      "text/html": [
       "<table>\n",
       "    <thead>\n",
       "        <tr>\n",
       "            <th>TotalCharges</th>\n",
       "        </tr>\n",
       "    </thead>\n",
       "    <tbody>\n",
       "        <tr>\n",
       "            <td> </td>\n",
       "        </tr>\n",
       "        <tr>\n",
       "            <td> </td>\n",
       "        </tr>\n",
       "        <tr>\n",
       "            <td> </td>\n",
       "        </tr>\n",
       "        <tr>\n",
       "            <td> </td>\n",
       "        </tr>\n",
       "        <tr>\n",
       "            <td> </td>\n",
       "        </tr>\n",
       "        <tr>\n",
       "            <td> </td>\n",
       "        </tr>\n",
       "        <tr>\n",
       "            <td> </td>\n",
       "        </tr>\n",
       "        <tr>\n",
       "            <td> </td>\n",
       "        </tr>\n",
       "        <tr>\n",
       "            <td> </td>\n",
       "        </tr>\n",
       "        <tr>\n",
       "            <td> </td>\n",
       "        </tr>\n",
       "    </tbody>\n",
       "</table>"
      ],
      "text/plain": [
       "[(' ',),\n",
       " (' ',),\n",
       " (' ',),\n",
       " (' ',),\n",
       " (' ',),\n",
       " (' ',),\n",
       " (' ',),\n",
       " (' ',),\n",
       " (' ',),\n",
       " (' ',)]"
      ]
     },
     "execution_count": 53,
     "metadata": {},
     "output_type": "execute_result"
    }
   ],
   "source": [
    "%%sql\n",
    "SELECT\n",
    "    TotalCharges\n",
    "FROM\n",
    "    churn.csv\n",
    "WHERE\n",
    "    NOT regexp_matches(TotalCharges, '^([0-9]+(\\.[0-9]+)?)$')\n",
    "LIMIT 10;"
   ]
  },
  {
   "cell_type": "markdown",
   "id": "e174607b",
   "metadata": {},
   "source": [
    "If there are any non-numeric values, you can either remove those rows or replace them with appropriate values. For this example, let's replace them with `NULL`. In our case we'll just cast it directly and continue with our analysis."
   ]
  },
  {
   "cell_type": "markdown",
   "id": "e554d528",
   "metadata": {},
   "source": [
    "You can cast directly the `TotalCharges` column to a numeric data type and calculate the averages. DuckDB has a built in feature for this called `TRY_CAST()`. The query from our previous cell (above, `cell 5`) should now return the average values for `tenure`, `MonthlyCharges`, and `TotalCharges`.\n",
    "\n",
    "We'll perform the exact same query as before but with the `TRY_CAST()`:\n",
    "\n",
    "\n"
   ]
  },
  {
   "cell_type": "code",
   "execution_count": 54,
   "id": "9102fe5c",
   "metadata": {
    "tags": []
   },
   "outputs": [
    {
     "name": "stdout",
     "output_type": "stream",
     "text": [
      "*  duckdb://\n",
      "(duckdb.CatalogException) Catalog Error: Table with name \"cleaned_churn\" already exists!\n",
      "[SQL: CREATE TABLE cleaned_churn AS\n",
      "SELECT\n",
      "    AVG(tenure) AS avg_tenure,\n",
      "    AVG(MonthlyCharges) AS avg_MonthlyCharges,\n",
      "    AVG(TRY_CAST(TotalCharges AS FLOAT)) AS avg_TotalCharges\n",
      "FROM\n",
      "    churn.csv;]\n",
      "(Background on this error at: https://sqlalche.me/e/20/f405)\n"
     ]
    }
   ],
   "source": [
    "%%sql\n",
    "CREATE TABLE cleaned_churn AS\n",
    "SELECT\n",
    "    AVG(tenure) AS avg_tenure,\n",
    "    AVG(MonthlyCharges) AS avg_MonthlyCharges,\n",
    "    AVG(TRY_CAST(TotalCharges AS FLOAT)) AS avg_TotalCharges\n",
    "FROM\n",
    "    churn.csv;"
   ]
  },
  {
   "cell_type": "code",
   "execution_count": 55,
   "id": "82e00dfc",
   "metadata": {
    "tags": []
   },
   "outputs": [
    {
     "name": "stdout",
     "output_type": "stream",
     "text": [
      "*  duckdb://\n",
      "Done.\n"
     ]
    },
    {
     "data": {
      "text/html": [
       "<table>\n",
       "    <thead>\n",
       "        <tr>\n",
       "            <th>avg_tenure</th>\n",
       "            <th>avg_MonthlyCharges</th>\n",
       "            <th>avg_TotalCharges</th>\n",
       "        </tr>\n",
       "    </thead>\n",
       "    <tbody>\n",
       "        <tr>\n",
       "            <td>32.37114865824223</td>\n",
       "            <td>64.76169246059922</td>\n",
       "            <td>2283.300441385536</td>\n",
       "        </tr>\n",
       "    </tbody>\n",
       "</table>"
      ],
      "text/plain": [
       "[(32.37114865824223, 64.76169246059922, 2283.300441385536)]"
      ]
     },
     "execution_count": 55,
     "metadata": {},
     "output_type": "execute_result"
    }
   ],
   "source": [
    "%sql select * from cleaned_churn limit 3"
   ]
  },
  {
   "cell_type": "markdown",
   "id": "878f99bb",
   "metadata": {},
   "source": [
    "### Churn distribution\n",
    "Now let's check the distribution of churn in the dataset."
   ]
  },
  {
   "cell_type": "code",
   "execution_count": 56,
   "id": "ba6a1ebb",
   "metadata": {
    "tags": []
   },
   "outputs": [
    {
     "name": "stdout",
     "output_type": "stream",
     "text": [
      "*  duckdb://\n",
      "Done.\n"
     ]
    },
    {
     "data": {
      "text/html": [
       "<table>\n",
       "    <thead>\n",
       "        <tr>\n",
       "            <th>Churn</th>\n",
       "            <th>count</th>\n",
       "            <th>percentage</th>\n",
       "        </tr>\n",
       "    </thead>\n",
       "    <tbody>\n",
       "        <tr>\n",
       "            <td>No</td>\n",
       "            <td>5174</td>\n",
       "            <td>0.7346301292063041</td>\n",
       "        </tr>\n",
       "        <tr>\n",
       "            <td>Yes</td>\n",
       "            <td>1869</td>\n",
       "            <td>0.2653698707936959</td>\n",
       "        </tr>\n",
       "    </tbody>\n",
       "</table>"
      ],
      "text/plain": [
       "[('No', 5174, 0.7346301292063041), ('Yes', 1869, 0.2653698707936959)]"
      ]
     },
     "execution_count": 56,
     "metadata": {},
     "output_type": "execute_result"
    }
   ],
   "source": [
    "%%sql\n",
    "SELECT\n",
    "    Churn,\n",
    "    COUNT(*) AS count,\n",
    "    COUNT(*) * 1.0 / (SELECT COUNT(*) FROM churn.csv) AS percentage\n",
    "FROM\n",
    "    churn.csv\n",
    "GROUP BY\n",
    "    Churn;"
   ]
  },
  {
   "cell_type": "markdown",
   "id": "5ed13d69-ceb0-4991-8e4d-80b7b7c192cf",
   "metadata": {},
   "source": [
    "### Saving our result directly into a dataframe\n",
    "JupySQLn allows you to save your queried results into a pandas dataframe and move to python when necessary.\n",
    "You can use `%sql`/`%%sql` with `<<` or the `=` sign:"
   ]
  },
  {
   "cell_type": "code",
   "execution_count": 57,
   "id": "c4f993a8-e28a-4488-85a8-386fe6a446d8",
   "metadata": {
    "tags": []
   },
   "outputs": [
    {
     "name": "stdout",
     "output_type": "stream",
     "text": [
      "*  duckdb://\n",
      "Done.\n"
     ]
    }
   ],
   "source": [
    "%%sql data <<\n",
    "SELECT\n",
    "    *\n",
    "FROM\n",
    "    churn.csv"
   ]
  },
  {
   "cell_type": "code",
   "execution_count": 58,
   "id": "9bde9df5-6816-4770-bf7c-161f217dd2aa",
   "metadata": {
    "tags": []
   },
   "outputs": [
    {
     "name": "stdout",
     "output_type": "stream",
     "text": [
      "*  duckdb://\n",
      "Done.\n"
     ]
    }
   ],
   "source": [
    "data = %sql SELECT * FROM churn.csv\n",
    "data = data.DataFrame()"
   ]
  },
  {
   "cell_type": "markdown",
   "id": "9ee3ee0a-36f5-47e7-ae94-4d5d44db67da",
   "metadata": {},
   "source": [
    "Now we can plot our data and see the total churn table we saw earlier in a visual form: "
   ]
  },
  {
   "cell_type": "code",
   "execution_count": 59,
   "id": "8167e809",
   "metadata": {
    "tags": []
   },
   "outputs": [
    {
     "data": {
      "image/png": "[encoded data removed]",
      "text/plain": [
       "<Figure size 1000x600 with 1 Axes>"
      ]
     },
     "metadata": {},
     "output_type": "display_data"
    }
   ],
   "source": [
    "# Adding a plot for the specific data\n",
    "# create a figure\n",
    "fig = plt.figure(figsize=(10, 6)) \n",
    "ax = fig.add_subplot(111)\n",
    "\n",
    "# proportion of observation of each class\n",
    "prop_response = data['Churn'].value_counts(normalize=True)\n",
    "\n",
    "# create a bar plot showing the percentage of churn\n",
    "prop_response.plot(kind='bar', \n",
    "                   ax=ax,\n",
    "                   color=['springgreen','salmon'])\n",
    "\n",
    "# set title and labels\n",
    "ax.set_title('Proportion of observations of the response variable',\n",
    "             fontsize=18, loc='left')\n",
    "ax.set_xlabel('churn',\n",
    "              fontsize=14)\n",
    "ax.set_ylabel('proportion of observations',\n",
    "              fontsize=14)\n",
    "ax.tick_params(rotation='auto')\n",
    "\n",
    "# eliminate the frame from the plot\n",
    "spine_names = ('top', 'right', 'bottom', 'left')\n",
    "for spine_name in spine_names:\n",
    "    ax.spines[spine_name].set_visible(False)"
   ]
  },
  {
   "cell_type": "markdown",
   "id": "70570522",
   "metadata": {},
   "source": [
    "### Churn by contract type\n",
    "Let's explore the relationship between contract type and churn."
   ]
  },
  {
   "cell_type": "code",
   "execution_count": 60,
   "id": "a46f3289",
   "metadata": {
    "magic_args": "--save churn_by",
    "tags": []
   },
   "outputs": [
    {
     "name": "stdout",
     "output_type": "stream",
     "text": [
      "*  duckdb://\n",
      "Done.\n"
     ]
    },
    {
     "data": {
      "text/html": [
       "<table>\n",
       "    <thead>\n",
       "        <tr>\n",
       "            <th>Contract</th>\n",
       "            <th>Churn</th>\n",
       "            <th>count</th>\n",
       "            <th>percentage</th>\n",
       "        </tr>\n",
       "    </thead>\n",
       "    <tbody>\n",
       "        <tr>\n",
       "            <td>Month-to-month</td>\n",
       "            <td>No</td>\n",
       "            <td>2220</td>\n",
       "            <td>0.5729032258064516</td>\n",
       "        </tr>\n",
       "        <tr>\n",
       "            <td>One year</td>\n",
       "            <td>No</td>\n",
       "            <td>1307</td>\n",
       "            <td>0.8873048200950441</td>\n",
       "        </tr>\n",
       "        <tr>\n",
       "            <td>Month-to-month</td>\n",
       "            <td>Yes</td>\n",
       "            <td>1655</td>\n",
       "            <td>0.4270967741935484</td>\n",
       "        </tr>\n",
       "        <tr>\n",
       "            <td>Two year</td>\n",
       "            <td>No</td>\n",
       "            <td>1647</td>\n",
       "            <td>0.9716814159292035</td>\n",
       "        </tr>\n",
       "        <tr>\n",
       "            <td>Two year</td>\n",
       "            <td>Yes</td>\n",
       "            <td>48</td>\n",
       "            <td>0.02831858407079646</td>\n",
       "        </tr>\n",
       "        <tr>\n",
       "            <td>One year</td>\n",
       "            <td>Yes</td>\n",
       "            <td>166</td>\n",
       "            <td>0.11269517990495587</td>\n",
       "        </tr>\n",
       "    </tbody>\n",
       "</table>"
      ],
      "text/plain": [
       "[('Month-to-month', 'No', 2220, 0.5729032258064516),\n",
       " ('One year', 'No', 1307, 0.8873048200950441),\n",
       " ('Month-to-month', 'Yes', 1655, 0.4270967741935484),\n",
       " ('Two year', 'No', 1647, 0.9716814159292035),\n",
       " ('Two year', 'Yes', 48, 0.02831858407079646),\n",
       " ('One year', 'Yes', 166, 0.11269517990495587)]"
      ]
     },
     "execution_count": 60,
     "metadata": {},
     "output_type": "execute_result"
    }
   ],
   "source": [
    "%%sql\n",
    "SELECT\n",
    "    Contract,\n",
    "    Churn,\n",
    "    COUNT(*) AS count,\n",
    "    COUNT(*) * 1.0 / (SELECT COUNT(*) FROM churn.csv WHERE Contract = c.Contract) AS percentage\n",
    "FROM\n",
    "    churn.csv AS c\n",
    "GROUP BY\n",
    "    Contract,\n",
    "    Churn;"
   ]
  },
  {
   "cell_type": "markdown",
   "id": "a0ed315a",
   "metadata": {},
   "source": [
    "### Churn by payment method\n",
    "We can also examine the relationship between payment methods and customer churn."
   ]
  },
  {
   "cell_type": "code",
   "execution_count": 61,
   "id": "956d3700",
   "metadata": {
    "tags": []
   },
   "outputs": [
    {
     "name": "stdout",
     "output_type": "stream",
     "text": [
      "*  duckdb://\n",
      "Done.\n"
     ]
    },
    {
     "data": {
      "text/html": [
       "<table>\n",
       "    <thead>\n",
       "        <tr>\n",
       "            <th>PaymentMethod</th>\n",
       "            <th>Churn</th>\n",
       "            <th>count</th>\n",
       "            <th>percentage</th>\n",
       "        </tr>\n",
       "    </thead>\n",
       "    <tbody>\n",
       "        <tr>\n",
       "            <td>Electronic check</td>\n",
       "            <td>No</td>\n",
       "            <td>1294</td>\n",
       "            <td>0.5471458773784356</td>\n",
       "        </tr>\n",
       "        <tr>\n",
       "            <td>Mailed check</td>\n",
       "            <td>No</td>\n",
       "            <td>1304</td>\n",
       "            <td>0.8089330024813896</td>\n",
       "        </tr>\n",
       "        <tr>\n",
       "            <td>Mailed check</td>\n",
       "            <td>Yes</td>\n",
       "            <td>308</td>\n",
       "            <td>0.19106699751861042</td>\n",
       "        </tr>\n",
       "    </tbody>\n",
       "</table>"
      ],
      "text/plain": [
       "[('Electronic check', 'No', 1294, 0.5471458773784356),\n",
       " ('Mailed check', 'No', 1304, 0.8089330024813896),\n",
       " ('Mailed check', 'Yes', 308, 0.19106699751861042)]"
      ]
     },
     "execution_count": 61,
     "metadata": {},
     "output_type": "execute_result"
    }
   ],
   "source": [
    "%%sql\n",
    "SELECT\n",
    "    PaymentMethod,\n",
    "    Churn,\n",
    "    COUNT(*) AS count,\n",
    "    COUNT(*) * 1.0 / (SELECT COUNT(*) FROM churn.csv WHERE PaymentMethod = p.PaymentMethod) AS percentage\n",
    "FROM\n",
    "    churn.csv AS p\n",
    "GROUP BY\n",
    "    PaymentMethod,\n",
    "    Churn\n",
    "limit 3;"
   ]
  },
  {
   "cell_type": "markdown",
   "id": "456381b8",
   "metadata": {},
   "source": [
    "### Correlation matrix\n",
    "Finally, let's create a correlation matrix to explore relationships between the numerical features and customer churn."
   ]
  },
  {
   "cell_type": "code",
   "execution_count": 62,
   "id": "a59fc0e8",
   "metadata": {
    "magic_args": "df <<",
    "tags": []
   },
   "outputs": [
    {
     "name": "stdout",
     "output_type": "stream",
     "text": [
      "*  duckdb://\n",
      "Done.\n"
     ]
    }
   ],
   "source": [
    "%%sql df <<\n",
    "SELECT tenure, MonthlyCharges, TRY_CAST(TotalCharges AS FLOAT) as TotalCharges, Churn FROM churn.csv;"
   ]
  },
  {
   "cell_type": "code",
   "execution_count": 63,
   "id": "7345f63e",
   "metadata": {
    "tags": []
   },
   "outputs": [
    {
     "data": {
      "image/png": "[encoded data removed]",
      "text/plain": [
       "<Figure size 800x600 with 2 Axes>"
      ]
     },
     "metadata": {},
     "output_type": "display_data"
    }
   ],
   "source": [
    "data_corr = df.DataFrame()\n",
    "data_corr['Churn'] = data_corr['Churn'].apply(lambda x: 1 if x == 'Yes' else 0)\n",
    "correlation_matrix = data_corr.corr()\n",
    "\n",
    "plt.figure(figsize=(8, 6))\n",
    "sns.heatmap(correlation_matrix, annot=True, cmap='coolwarm')\n",
    "plt.title('Correlation Matrix')\n",
    "plt.show()"
   ]
  },
  {
   "cell_type": "markdown",
   "id": "502d66eb",
   "metadata": {},
   "source": [
    "These EDA techniques provide valuable insights into the dataset and can help guide the feature engineering and model selection process. Based on the EDA results, you might consider focusing on specific features, transforming variables, or trying different machine learning algorithms to improve model performance."
   ]
  },
  {
   "cell_type": "markdown",
   "id": "9251887d",
   "metadata": {},
   "source": [
    "Another cool thing we can do to simply get the imidiate insights pop out to us is use jupysql's built in functionality to view our data distribution:"
   ]
  },
  {
   "cell_type": "code",
   "execution_count": 64,
   "id": "967b7eaf",
   "metadata": {
    "tags": []
   },
   "outputs": [
    {
     "data": {
      "text/html": [
       "<style>\n",
       " #profile-table td:first-child {\n",
       "  position: sticky;\n",
       "  left: 0;\n",
       "  background-color: var(--jp-cell-editor-background);\n",
       "}\n",
       " #profile-table thead tr th:first-child {\n",
       "  position: sticky;\n",
       "  left: 0;\n",
       "  background-color: var(--jp-cell-editor-background);\n",
       "}\n",
       "            </style><table id=\"profile-table\">\n",
       "    <thead>\n",
       "        <tr>\n",
       "            <th> </th>\n",
       "            <th>customerID</th>\n",
       "            <th>gender</th>\n",
       "            <th>SeniorCitizen</th>\n",
       "            <th>Partner</th>\n",
       "            <th>Dependents</th>\n",
       "            <th>tenure</th>\n",
       "            <th>PhoneService</th>\n",
       "            <th>MultipleLines</th>\n",
       "            <th>InternetService</th>\n",
       "            <th>OnlineSecurity</th>\n",
       "            <th>OnlineBackup</th>\n",
       "            <th>DeviceProtection</th>\n",
       "            <th>TechSupport</th>\n",
       "            <th>StreamingTV</th>\n",
       "            <th>StreamingMovies</th>\n",
       "            <th>Contract</th>\n",
       "            <th>PaperlessBilling</th>\n",
       "            <th>PaymentMethod</th>\n",
       "            <th>MonthlyCharges</th>\n",
       "            <th>TotalCharges</th>\n",
       "            <th>Churn</th>\n",
       "        </tr>\n",
       "    </thead>\n",
       "    <tbody>\n",
       "        <tr>\n",
       "            <td>unique</td>\n",
       "            <td>7043</td>\n",
       "            <td>2</td>\n",
       "            <td>2</td>\n",
       "            <td>2</td>\n",
       "            <td>2</td>\n",
       "            <td>73</td>\n",
       "            <td>2</td>\n",
       "            <td>3</td>\n",
       "            <td>3</td>\n",
       "            <td>3</td>\n",
       "            <td>3</td>\n",
       "            <td>3</td>\n",
       "            <td>3</td>\n",
       "            <td>3</td>\n",
       "            <td>3</td>\n",
       "            <td>3</td>\n",
       "            <td>2</td>\n",
       "            <td>4</td>\n",
       "            <td>1585</td>\n",
       "            <td>6531</td>\n",
       "            <td>2</td>\n",
       "        </tr>\n",
       "        <tr>\n",
       "            <td>top</td>\n",
       "            <td>7590-VHVEG</td>\n",
       "            <td>Male</td>\n",
       "            <td>0</td>\n",
       "            <td>No</td>\n",
       "            <td>No</td>\n",
       "            <td>1</td>\n",
       "            <td>Yes</td>\n",
       "            <td>No</td>\n",
       "            <td>Fiber optic</td>\n",
       "            <td>No</td>\n",
       "            <td>No</td>\n",
       "            <td>No</td>\n",
       "            <td>No</td>\n",
       "            <td>No</td>\n",
       "            <td>No</td>\n",
       "            <td>Month-to-month</td>\n",
       "            <td>Yes</td>\n",
       "            <td>Electronic check</td>\n",
       "            <td>20.05</td>\n",
       "            <td>20.2</td>\n",
       "            <td>No</td>\n",
       "        </tr>\n",
       "        <tr>\n",
       "            <td>std</td>\n",
       "            <td>nan</td>\n",
       "            <td>nan</td>\n",
       "            <td>3.686e-01</td>\n",
       "            <td>nan</td>\n",
       "            <td>nan</td>\n",
       "            <td>2.456e+01</td>\n",
       "            <td>nan</td>\n",
       "            <td>nan</td>\n",
       "            <td>nan</td>\n",
       "            <td>nan</td>\n",
       "            <td>nan</td>\n",
       "            <td>nan</td>\n",
       "            <td>nan</td>\n",
       "            <td>nan</td>\n",
       "            <td>nan</td>\n",
       "            <td>nan</td>\n",
       "            <td>nan</td>\n",
       "            <td>nan</td>\n",
       "            <td>3.009e+01</td>\n",
       "            <td>nan</td>\n",
       "            <td>nan</td>\n",
       "        </tr>\n",
       "        <tr>\n",
       "            <td>min</td>\n",
       "            <td>0002-ORFBO</td>\n",
       "            <td>Female</td>\n",
       "            <td>0</td>\n",
       "            <td>No</td>\n",
       "            <td>No</td>\n",
       "            <td>0</td>\n",
       "            <td>No</td>\n",
       "            <td>No</td>\n",
       "            <td>DSL</td>\n",
       "            <td>No</td>\n",
       "            <td>No</td>\n",
       "            <td>No</td>\n",
       "            <td>No</td>\n",
       "            <td>No</td>\n",
       "            <td>No</td>\n",
       "            <td>Month-to-month</td>\n",
       "            <td>No</td>\n",
       "            <td>Bank transfer (automatic)</td>\n",
       "            <td>18.25</td>\n",
       "            <td> </td>\n",
       "            <td>No</td>\n",
       "        </tr>\n",
       "        <tr>\n",
       "            <td>mean</td>\n",
       "            <td>nan</td>\n",
       "            <td>nan</td>\n",
       "            <td>1.621e-01</td>\n",
       "            <td>nan</td>\n",
       "            <td>nan</td>\n",
       "            <td>3.237e+01</td>\n",
       "            <td>nan</td>\n",
       "            <td>nan</td>\n",
       "            <td>nan</td>\n",
       "            <td>nan</td>\n",
       "            <td>nan</td>\n",
       "            <td>nan</td>\n",
       "            <td>nan</td>\n",
       "            <td>nan</td>\n",
       "            <td>nan</td>\n",
       "            <td>nan</td>\n",
       "            <td>nan</td>\n",
       "            <td>nan</td>\n",
       "            <td>6.476e+01</td>\n",
       "            <td>nan</td>\n",
       "            <td>nan</td>\n",
       "        </tr>\n",
       "        <tr>\n",
       "            <td>max</td>\n",
       "            <td>9995-HOTOH</td>\n",
       "            <td>Male</td>\n",
       "            <td>1</td>\n",
       "            <td>Yes</td>\n",
       "            <td>Yes</td>\n",
       "            <td>72</td>\n",
       "            <td>Yes</td>\n",
       "            <td>Yes</td>\n",
       "            <td>No</td>\n",
       "            <td>Yes</td>\n",
       "            <td>Yes</td>\n",
       "            <td>Yes</td>\n",
       "            <td>Yes</td>\n",
       "            <td>Yes</td>\n",
       "            <td>Yes</td>\n",
       "            <td>Two year</td>\n",
       "            <td>Yes</td>\n",
       "            <td>Mailed check</td>\n",
       "            <td>118.75</td>\n",
       "            <td>999.9</td>\n",
       "            <td>Yes</td>\n",
       "        </tr>\n",
       "        <tr>\n",
       "            <td>freq</td>\n",
       "            <td>1</td>\n",
       "            <td>3555</td>\n",
       "            <td>5901</td>\n",
       "            <td>3641</td>\n",
       "            <td>4933</td>\n",
       "            <td>613</td>\n",
       "            <td>6361</td>\n",
       "            <td>3390</td>\n",
       "            <td>3096</td>\n",
       "            <td>3498</td>\n",
       "            <td>3088</td>\n",
       "            <td>3095</td>\n",
       "            <td>3473</td>\n",
       "            <td>2810</td>\n",
       "            <td>2785</td>\n",
       "            <td>3875</td>\n",
       "            <td>4171</td>\n",
       "            <td>2365</td>\n",
       "            <td>61</td>\n",
       "            <td>11</td>\n",
       "            <td>5174</td>\n",
       "        </tr>\n",
       "        <tr>\n",
       "            <td>count</td>\n",
       "            <td>7043</td>\n",
       "            <td>7043</td>\n",
       "            <td>7043</td>\n",
       "            <td>7043</td>\n",
       "            <td>7043</td>\n",
       "            <td>7043</td>\n",
       "            <td>7043</td>\n",
       "            <td>7043</td>\n",
       "            <td>7043</td>\n",
       "            <td>7043</td>\n",
       "            <td>7043</td>\n",
       "            <td>7043</td>\n",
       "            <td>7043</td>\n",
       "            <td>7043</td>\n",
       "            <td>7043</td>\n",
       "            <td>7043</td>\n",
       "            <td>7043</td>\n",
       "            <td>7043</td>\n",
       "            <td>7043</td>\n",
       "            <td>7043</td>\n",
       "            <td>7043</td>\n",
       "        </tr>\n",
       "        <tr>\n",
       "            <td>75%</td>\n",
       "            <td>nan</td>\n",
       "            <td>nan</td>\n",
       "            <td>0.0</td>\n",
       "            <td>nan</td>\n",
       "            <td>nan</td>\n",
       "            <td>55.0</td>\n",
       "            <td>nan</td>\n",
       "            <td>nan</td>\n",
       "            <td>nan</td>\n",
       "            <td>nan</td>\n",
       "            <td>nan</td>\n",
       "            <td>nan</td>\n",
       "            <td>nan</td>\n",
       "            <td>nan</td>\n",
       "            <td>nan</td>\n",
       "            <td>nan</td>\n",
       "            <td>nan</td>\n",
       "            <td>nan</td>\n",
       "            <td>89.85</td>\n",
       "            <td>nan</td>\n",
       "            <td>nan</td>\n",
       "        </tr>\n",
       "        <tr>\n",
       "            <td>50%</td>\n",
       "            <td>nan</td>\n",
       "            <td>nan</td>\n",
       "            <td>0.0</td>\n",
       "            <td>nan</td>\n",
       "            <td>nan</td>\n",
       "            <td>29.0</td>\n",
       "            <td>nan</td>\n",
       "            <td>nan</td>\n",
       "            <td>nan</td>\n",
       "            <td>nan</td>\n",
       "            <td>nan</td>\n",
       "            <td>nan</td>\n",
       "            <td>nan</td>\n",
       "            <td>nan</td>\n",
       "            <td>nan</td>\n",
       "            <td>nan</td>\n",
       "            <td>nan</td>\n",
       "            <td>nan</td>\n",
       "            <td>70.35</td>\n",
       "            <td>nan</td>\n",
       "            <td>nan</td>\n",
       "        </tr>\n",
       "        <tr>\n",
       "            <td>25%</td>\n",
       "            <td>nan</td>\n",
       "            <td>nan</td>\n",
       "            <td>0.0</td>\n",
       "            <td>nan</td>\n",
       "            <td>nan</td>\n",
       "            <td>9.0</td>\n",
       "            <td>nan</td>\n",
       "            <td>nan</td>\n",
       "            <td>nan</td>\n",
       "            <td>nan</td>\n",
       "            <td>nan</td>\n",
       "            <td>nan</td>\n",
       "            <td>nan</td>\n",
       "            <td>nan</td>\n",
       "            <td>nan</td>\n",
       "            <td>nan</td>\n",
       "            <td>nan</td>\n",
       "            <td>nan</td>\n",
       "            <td>35.5</td>\n",
       "            <td>nan</td>\n",
       "            <td>nan</td>\n",
       "        </tr>\n",
       "    </tbody>\n",
       "</table>"
      ],
      "text/plain": [
       "+--------+------------+--------+---------------+---------+------------+-----------+--------------+---------------+-----------------+----------------+--------------+------------------+-------------+-------------+-----------------+----------------+------------------+---------------------------+----------------+--------------+-------+\n",
       "|        | customerID | gender | SeniorCitizen | Partner | Dependents |   tenure  | PhoneService | MultipleLines | InternetService | OnlineSecurity | OnlineBackup | DeviceProtection | TechSupport | StreamingTV | StreamingMovies |    Contract    | PaperlessBilling |       PaymentMethod       | MonthlyCharges | TotalCharges | Churn |\n",
       "+--------+------------+--------+---------------+---------+------------+-----------+--------------+---------------+-----------------+----------------+--------------+------------------+-------------+-------------+-----------------+----------------+------------------+---------------------------+----------------+--------------+-------+\n",
       "| unique |    7043    |   2    |       2       |    2    |     2      |     73    |      2       |       3       |        3        |       3        |      3       |        3         |      3      |      3      |        3        |       3        |        2         |             4             |      1585      |     6531     |   2   |\n",
       "|  top   | 7590-VHVEG |  Male  |       0       |    No   |     No     |     1     |     Yes      |       No      |   Fiber optic   |       No       |      No      |        No        |      No     |      No     |        No       | Month-to-month |       Yes        |      Electronic check     |     20.05      |     20.2     |   No  |\n",
       "|  std   |    nan     |  nan   |   3.686e-01   |   nan   |    nan     | 2.456e+01 |     nan      |      nan      |       nan       |      nan       |     nan      |       nan        |     nan     |     nan     |       nan       |      nan       |       nan        |            nan            |   3.009e+01    |     nan      |  nan  |\n",
       "|  min   | 0002-ORFBO | Female |       0       |    No   |     No     |     0     |      No      |       No      |       DSL       |       No       |      No      |        No        |      No     |      No     |        No       | Month-to-month |        No        | Bank transfer (automatic) |     18.25      |              |   No  |\n",
       "|  mean  |    nan     |  nan   |   1.621e-01   |   nan   |    nan     | 3.237e+01 |     nan      |      nan      |       nan       |      nan       |     nan      |       nan        |     nan     |     nan     |       nan       |      nan       |       nan        |            nan            |   6.476e+01    |     nan      |  nan  |\n",
       "|  max   | 9995-HOTOH |  Male  |       1       |   Yes   |    Yes     |     72    |     Yes      |      Yes      |        No       |      Yes       |     Yes      |       Yes        |     Yes     |     Yes     |       Yes       |    Two year    |       Yes        |        Mailed check       |     118.75     |    999.9     |  Yes  |\n",
       "|  freq  |     1      |  3555  |      5901     |   3641  |    4933    |    613    |     6361     |      3390     |       3096      |      3498      |     3088     |       3095       |     3473    |     2810    |       2785      |      3875      |       4171       |            2365           |       61       |      11      |  5174 |\n",
       "| count  |    7043    |  7043  |      7043     |   7043  |    7043    |    7043   |     7043     |      7043     |       7043      |      7043      |     7043     |       7043       |     7043    |     7043    |       7043      |      7043      |       7043       |            7043           |      7043      |     7043     |  7043 |\n",
       "|  75%   |    nan     |  nan   |      0.0      |   nan   |    nan     |    55.0   |     nan      |      nan      |       nan       |      nan       |     nan      |       nan        |     nan     |     nan     |       nan       |      nan       |       nan        |            nan            |     89.85      |     nan      |  nan  |\n",
       "|  50%   |    nan     |  nan   |      0.0      |   nan   |    nan     |    29.0   |     nan      |      nan      |       nan       |      nan       |     nan      |       nan        |     nan     |     nan     |       nan       |      nan       |       nan        |            nan            |     70.35      |     nan      |  nan  |\n",
       "|  25%   |    nan     |  nan   |      0.0      |   nan   |    nan     |    9.0    |     nan      |      nan      |       nan       |      nan       |     nan      |       nan        |     nan     |     nan     |       nan       |      nan       |       nan        |            nan            |      35.5      |     nan      |  nan  |\n",
       "+--------+------------+--------+---------------+---------+------------+-----------+--------------+---------------+-----------------+----------------+--------------+------------------+-------------+-------------+-----------------+----------------+------------------+---------------------------+----------------+--------------+-------+"
      ]
     },
     "execution_count": 64,
     "metadata": {},
     "output_type": "execute_result"
    }
   ],
   "source": [
    "%sqlcmd profile --table \"churn.csv\""
   ]
  },
  {
   "cell_type": "markdown",
   "id": "c3bf31a5",
   "metadata": {},
   "source": [
    "We can also save it as an HTML report if we'd like to!"
   ]
  },
  {
   "cell_type": "markdown",
   "id": "6be20269-aa86-4bf8-a5c9-4f6225171453",
   "metadata": {},
   "source": [
    "## Plotting directly from SQL"
   ]
  },
  {
   "cell_type": "markdown",
   "id": "c3d5d5df-5318-4b97-8b80-84d6ab092f2f",
   "metadata": {},
   "source": [
    "We can save queries and then use them in a similar manner to CTEs. We'll get the monthly charges and the total charges amount (cleaned), make sure we don't have bad values in them (nulls) and we'll use this query to plot the data."
   ]
  },
  {
   "cell_type": "code",
   "execution_count": 65,
   "id": "36614652-b124-40e8-84c6-d0271d924d59",
   "metadata": {
    "tags": []
   },
   "outputs": [
    {
     "name": "stdout",
     "output_type": "stream",
     "text": [
      "*  duckdb://\n",
      "Skipping execution...\n"
     ]
    }
   ],
   "source": [
    "%%sql --save clean_not_nulls --no-execute\n",
    "SELECT *, TRY_CAST(TotalCharges AS FLOAT) as total_charges,\n",
    "FROM churn.csv\n",
    "WHERE MonthlyCharges IS NOT NULL \n",
    "AND total_charges IS NOT NULL"
   ]
  },
  {
   "cell_type": "markdown",
   "id": "00eb6bdd-8743-40cc-baad-0ee72914ff0a",
   "metadata": {},
   "source": [
    "We can plot the two columns, but the monthly charges will be skewed since the values are not normalized, we can normalize or just plot the monthly charges seperately in the next cell."
   ]
  },
  {
   "cell_type": "code",
   "execution_count": 66,
   "id": "4f598d48-103b-4a06-b52a-c2042b6b9a18",
   "metadata": {
    "tags": []
   },
   "outputs": [
    {
     "data": {
      "text/plain": [
       "<Axes: title={'center': \"Boxplot from 'clean_not_nulls'\"}>"
      ]
     },
     "execution_count": 66,
     "metadata": {},
     "output_type": "execute_result"
    },
    {
     "data": {
      "image/png": "[encoded data removed]",
      "text/plain": [
       "<Figure size 640x480 with 1 Axes>"
      ]
     },
     "metadata": {},
     "output_type": "display_data"
    }
   ],
   "source": [
    "%sqlplot boxplot --column MonthlyCharges total_charges --table clean_not_nulls --with clean_not_nulls"
   ]
  },
  {
   "cell_type": "code",
   "execution_count": 67,
   "id": "8799921a-0541-4f86-9f5d-36d482ee0c33",
   "metadata": {
    "tags": []
   },
   "outputs": [
    {
     "data": {
      "text/plain": [
       "<Axes: title={'center': \"'MonthlyCharges' from 'clean_not_nulls'\"}, ylabel='MonthlyCharges'>"
      ]
     },
     "execution_count": 67,
     "metadata": {},
     "output_type": "execute_result"
    },
    {
     "data": {
      "image/png": "[encoded data removed]",
      "text/plain": [
       "<Figure size 640x480 with 1 Axes>"
      ]
     },
     "metadata": {},
     "output_type": "display_data"
    }
   ],
   "source": [
    "%sqlplot boxplot --column MonthlyCharges --table clean_not_nulls --with clean_not_nulls"
   ]
  },
  {
   "cell_type": "markdown",
   "id": "bcf8a3ff-5dbd-4067-a89d-d449cf8061af",
   "metadata": {
    "tags": []
   },
   "source": [
    "Now we will look on the distribution of the data, this can help us detecting outliers that will eventually affect our model performance."
   ]
  },
  {
   "cell_type": "code",
   "execution_count": 68,
   "id": "00f7da42-edd9-4c91-9358-ac5938cbb9f3",
   "metadata": {
    "tags": []
   },
   "outputs": [
    {
     "data": {
      "text/plain": [
       "<Axes: title={'center': \"'MonthlyCharges' from 'clean_not_nulls'\"}, xlabel='MonthlyCharges', ylabel='Count'>"
      ]
     },
     "execution_count": 68,
     "metadata": {},
     "output_type": "execute_result"
    },
    {
     "data": {
      "image/png": "[encoded data removed]",
      "text/plain": [
       "<Figure size 640x480 with 1 Axes>"
      ]
     },
     "metadata": {},
     "output_type": "display_data"
    }
   ],
   "source": [
    "%sqlplot histogram --column MonthlyCharges --table clean_not_nulls --with clean_not_nulls"
   ]
  },
  {
   "cell_type": "code",
   "execution_count": 69,
   "id": "4b8af9db-9248-498f-822d-25663a61bcca",
   "metadata": {
    "tags": []
   },
   "outputs": [
    {
     "data": {
      "text/plain": [
       "<Axes: title={'center': \"'tenure' from 'clean_not_nulls'\"}, xlabel='tenure', ylabel='Count'>"
      ]
     },
     "execution_count": 69,
     "metadata": {},
     "output_type": "execute_result"
    },
    {
     "data": {
      "image/png": "[encoded data removed]",
      "text/plain": [
       "<Figure size 640x480 with 1 Axes>"
      ]
     },
     "metadata": {},
     "output_type": "display_data"
    }
   ],
   "source": [
    "%sqlplot histogram --column tenure --table clean_not_nulls --with clean_not_nulls"
   ]
  },
  {
   "cell_type": "code",
   "execution_count": 70,
   "id": "0edfacd2-1d86-46e4-b1c7-a34d0bfb979d",
   "metadata": {
    "tags": []
   },
   "outputs": [
    {
     "data": {
      "image/png": "[encoded data removed]",
      "text/plain": [
       "<Figure size 800x600 with 1 Axes>"
      ]
     },
     "metadata": {},
     "output_type": "display_data"
    }
   ],
   "source": [
    "# Set the plot style\n",
    "sns.set(style='whitegrid')\n",
    "\n",
    "# Create a boxplot of tenure for churned and not churned customers\n",
    "plt.figure(figsize=(8, 6))\n",
    "sns.boxplot(x='Churn', y='tenure', data=data)\n",
    "plt.xlabel('Churn Status')\n",
    "plt.ylabel('Tenure')\n",
    "plt.title('Tenure Distribution for Churned vs. Not Churned Customers')\n",
    "\n",
    "# Display the plot\n",
    "plt.show()"
   ]
  },
  {
   "cell_type": "markdown",
   "id": "72b1aa7f",
   "metadata": {},
   "source": [
    "## Data preprocessing\n",
    "To prepare the data for machine learning, we'll need to preprocess it. We will start by converting the categorical columns into numerical values using one-hot encoding. We'll also normalize the continuous features to bring them to the same scale. \n",
    "\n",
    "In the following example we're creating a mapping on certain values within the `Multiplelines` column."
   ]
  },
  {
   "cell_type": "code",
   "execution_count": 71,
   "id": "1153e5fc",
   "metadata": {
    "lines_to_next_cell": 0,
    "tags": []
   },
   "outputs": [
    {
     "name": "stdout",
     "output_type": "stream",
     "text": [
      "*  duckdb://\n",
      "(duckdb.CatalogException) Catalog Error: Table with name \"customer_churn_encoded\" already exists!\n",
      "[SQL: CREATE TABLE customer_churn_encoded AS\n",
      "SELECT\n",
      "    customerID,\n",
      "    gender,\n",
      "    SeniorCitizen,\n",
      "    Partner,\n",
      "    Dependents,\n",
      "    tenure,\n",
      "    PhoneService,\n",
      "    MultipleLines,\n",
      "    CASE\n",
      "        WHEN InternetService = 'DSL' THEN 1\n",
      "        ELSE 0\n",
      "    END AS InternetService_DSL,\n",
      "    CASE\n",
      "        WHEN InternetService = 'Fiber optic' THEN 1\n",
      "        ELSE 0\n",
      "    END AS InternetService_Fiber_optic,\n",
      "    CASE\n",
      "        WHEN InternetService = 'No' THEN 1\n",
      "        ELSE 0\n",
      "    END AS InternetService_No,\n",
      "    OnlineSecurity,\n",
      "    OnlineBackup,\n",
      "    DeviceProtection,\n",
      "    TechSupport,\n",
      "    StreamingTV,\n",
      "    StreamingMovies,\n",
      "    Contract,\n",
      "    PaperlessBilling,\n",
      "    PaymentMethod,\n",
      "    MonthlyCharges,\n",
      "    TotalCharges,\n",
      "    Churn\n",
      "FROM\n",
      "    churn.csv;]\n",
      "(Background on this error at: https://sqlalche.me/e/20/f405)\n"
     ]
    }
   ],
   "source": [
    "%%sql\n",
    "CREATE TABLE customer_churn_encoded AS\n",
    "SELECT\n",
    "    customerID,\n",
    "    gender,\n",
    "    SeniorCitizen,\n",
    "    Partner,\n",
    "    Dependents,\n",
    "    tenure,\n",
    "    PhoneService,\n",
    "    MultipleLines,\n",
    "    CASE\n",
    "        WHEN InternetService = 'DSL' THEN 1\n",
    "        ELSE 0\n",
    "    END AS InternetService_DSL,\n",
    "    CASE\n",
    "        WHEN InternetService = 'Fiber optic' THEN 1\n",
    "        ELSE 0\n",
    "    END AS InternetService_Fiber_optic,\n",
    "    CASE\n",
    "        WHEN InternetService = 'No' THEN 1\n",
    "        ELSE 0\n",
    "    END AS InternetService_No,\n",
    "    OnlineSecurity,\n",
    "    OnlineBackup,\n",
    "    DeviceProtection,\n",
    "    TechSupport,\n",
    "    StreamingTV,\n",
    "    StreamingMovies,\n",
    "    Contract,\n",
    "    PaperlessBilling,\n",
    "    PaymentMethod,\n",
    "    MonthlyCharges,\n",
    "    TotalCharges,\n",
    "    Churn\n",
    "FROM\n",
    "    churn.csv;"
   ]
  },
  {
   "cell_type": "markdown",
   "id": "05a7ea20",
   "metadata": {},
   "source": [
    "SQL isn't always the answer, for instance, take this cell above for data preprocessing, it could be shorter with python and probably more efficient. The column encoding that happens above is a total of 2 lines in the cell bellow. So for simplicity from this point onward we'll continue with python. Afterall you need to use the right tool for the job."
   ]
  },
  {
   "cell_type": "code",
   "execution_count": 72,
   "id": "90d03639",
   "metadata": {
    "tags": []
   },
   "outputs": [
    {
     "data": {
      "text/plain": [
       "Index(['customerID', 'gender', 'SeniorCitizen', 'Partner', 'Dependents',\n",
       "       'tenure', 'PhoneService', 'MultipleLines', 'InternetService',\n",
       "       'OnlineSecurity', 'OnlineBackup', 'DeviceProtection', 'TechSupport',\n",
       "       'StreamingTV', 'StreamingMovies', 'Contract', 'PaperlessBilling',\n",
       "       'PaymentMethod', 'MonthlyCharges', 'TotalCharges', 'Churn'],\n",
       "      dtype='object')"
      ]
     },
     "execution_count": 72,
     "metadata": {},
     "output_type": "execute_result"
    }
   ],
   "source": [
    "# Consume our raw data (same one we just explored) show the columns\n",
    "data.columns"
   ]
  },
  {
   "cell_type": "markdown",
   "id": "e8ce0804-64f7-41cc-8fa6-637b85961212",
   "metadata": {},
   "source": [
    "In the following cell we're applying categorical labels to each of the columns, for instance in gender, instead of having values of male/female, we'll encode it to all females 1, all males 0 (or the opposite), mapping the values to numerical."
   ]
  },
  {
   "cell_type": "code",
   "execution_count": 73,
   "id": "36bfa0b3",
   "metadata": {
    "tags": []
   },
   "outputs": [],
   "source": [
    "# Encode categorical columns\n",
    "categorical_columns = ['gender', 'SeniorCitizen', 'Partner', 'Dependents', 'PhoneService', 'MultipleLines', 'InternetService', 'OnlineSecurity', 'OnlineBackup', 'DeviceProtection', 'TechSupport', 'StreamingTV', 'StreamingMovies', 'Contract', 'PaperlessBilling', 'PaymentMethod', 'Churn']\n",
    "data_encoded = data[categorical_columns].apply(LabelEncoder().fit_transform)"
   ]
  },
  {
   "cell_type": "markdown",
   "id": "0f3446f6",
   "metadata": {},
   "source": [
    "## Data normalization\n",
    "Now, we will normalize the continuous features (tenure, MonthlyCharges, and TotalCharges). We'll convert all of the column values to numeric values, normalize it, and remove null values."
   ]
  },
  {
   "cell_type": "code",
   "execution_count": 74,
   "id": "82a05479",
   "metadata": {
    "tags": []
   },
   "outputs": [],
   "source": [
    "# We'll need to clean the Totalcharges column again\n",
    "# Convert TotalCharges to a numeric data type\n",
    "data['TotalCharges'] = pd.to_numeric(data['TotalCharges'], errors='coerce')\n",
    "\n",
    "# Handle any missing values in TotalCharges after conversion\n",
    "data['TotalCharges'].fillna(data['TotalCharges'].mean(), inplace=True)\n"
   ]
  },
  {
   "cell_type": "code",
   "execution_count": 75,
   "id": "5bf85694",
   "metadata": {
    "tags": []
   },
   "outputs": [],
   "source": [
    "# Normalize numerical columns\n",
    "numerical_columns = ['tenure', 'MonthlyCharges', 'TotalCharges']\n",
    "\n",
    "data_normalized = data[numerical_columns].apply(lambda x: (x - x.min()) / (x.max() - x.min()))\n",
    "\n",
    "# Merge encoded and normalized DataFrames\n",
    "data_preprocessed = pd.concat([data_encoded, data_normalized], axis=1)"
   ]
  },
  {
   "cell_type": "markdown",
   "id": "a50c3d15",
   "metadata": {},
   "source": [
    "## Train test split\n",
    "To train and test our model, we will split the data into training (80%) and testing (20%) sets. This 20% testing data will later use us to evaluate our model."
   ]
  },
  {
   "cell_type": "code",
   "execution_count": 76,
   "id": "1da64930",
   "metadata": {
    "lines_to_next_cell": 2,
    "tags": []
   },
   "outputs": [],
   "source": [
    "# Splitting the data into training and testing sets\n",
    "X = data_preprocessed.drop('Churn', axis=1)\n",
    "y = data_preprocessed['Churn']\n",
    "\n",
    "X_train, X_test, y_train, y_test = train_test_split(X, y, test_size=0.2, random_state=42)\n"
   ]
  },
  {
   "cell_type": "markdown",
   "id": "0b7633e2",
   "metadata": {},
   "source": [
    "## Training the model\n",
    "We will now train a logistic regression model using the training data. \n",
    "\n",
    "The main goal is to understand if a customer will churn or not given its parameters."
   ]
  },
  {
   "cell_type": "code",
   "execution_count": 77,
   "id": "ee08c757",
   "metadata": {
    "lines_to_next_cell": 0,
    "tags": []
   },
   "outputs": [
    {
     "data": {
      "text/html": [
       "<style>#sk-container-id-2 {color: black;background-color: white;}#sk-container-id-2 pre{padding: 0;}#sk-container-id-2 div.sk-toggleable {background-color: white;}#sk-container-id-2 label.sk-toggleable__label {cursor: pointer;display: block;width: 100%;margin-bottom: 0;padding: 0.3em;box-sizing: border-box;text-align: center;}#sk-container-id-2 label.sk-toggleable__label-arrow:before {content: \"▸\";float: left;margin-right: 0.25em;color: #696969;}#sk-container-id-2 label.sk-toggleable__label-arrow:hover:before {color: black;}#sk-container-id-2 div.sk-estimator:hover label.sk-toggleable__label-arrow:before {color: black;}#sk-container-id-2 div.sk-toggleable__content {max-height: 0;max-width: 0;overflow: hidden;text-align: left;background-color: #f0f8ff;}#sk-container-id-2 div.sk-toggleable__content pre {margin: 0.2em;color: black;border-radius: 0.25em;background-color: #f0f8ff;}#sk-container-id-2 input.sk-toggleable__control:checked~div.sk-toggleable__content {max-height: 200px;max-width: 100%;overflow: auto;}#sk-container-id-2 input.sk-toggleable__control:checked~label.sk-toggleable__label-arrow:before {content: \"▾\";}#sk-container-id-2 div.sk-estimator input.sk-toggleable__control:checked~label.sk-toggleable__label {background-color: #d4ebff;}#sk-container-id-2 div.sk-label input.sk-toggleable__control:checked~label.sk-toggleable__label {background-color: #d4ebff;}#sk-container-id-2 input.sk-hidden--visually {border: 0;clip: rect(1px 1px 1px 1px);clip: rect(1px, 1px, 1px, 1px);height: 1px;margin: -1px;overflow: hidden;padding: 0;position: absolute;width: 1px;}#sk-container-id-2 div.sk-estimator {font-family: monospace;background-color: #f0f8ff;border: 1px dotted black;border-radius: 0.25em;box-sizing: border-box;margin-bottom: 0.5em;}#sk-container-id-2 div.sk-estimator:hover {background-color: #d4ebff;}#sk-container-id-2 div.sk-parallel-item::after {content: \"\";width: 100%;border-bottom: 1px solid gray;flex-grow: 1;}#sk-container-id-2 div.sk-label:hover label.sk-toggleable__label {background-color: #d4ebff;}#sk-container-id-2 div.sk-serial::before {content: \"\";position: absolute;border-left: 1px solid gray;box-sizing: border-box;top: 0;bottom: 0;left: 50%;z-index: 0;}#sk-container-id-2 div.sk-serial {display: flex;flex-direction: column;align-items: center;background-color: white;padding-right: 0.2em;padding-left: 0.2em;position: relative;}#sk-container-id-2 div.sk-item {position: relative;z-index: 1;}#sk-container-id-2 div.sk-parallel {display: flex;align-items: stretch;justify-content: center;background-color: white;position: relative;}#sk-container-id-2 div.sk-item::before, #sk-container-id-2 div.sk-parallel-item::before {content: \"\";position: absolute;border-left: 1px solid gray;box-sizing: border-box;top: 0;bottom: 0;left: 50%;z-index: -1;}#sk-container-id-2 div.sk-parallel-item {display: flex;flex-direction: column;z-index: 1;position: relative;background-color: white;}#sk-container-id-2 div.sk-parallel-item:first-child::after {align-self: flex-end;width: 50%;}#sk-container-id-2 div.sk-parallel-item:last-child::after {align-self: flex-start;width: 50%;}#sk-container-id-2 div.sk-parallel-item:only-child::after {width: 0;}#sk-container-id-2 div.sk-dashed-wrapped {border: 1px dashed gray;margin: 0 0.4em 0.5em 0.4em;box-sizing: border-box;padding-bottom: 0.4em;background-color: white;}#sk-container-id-2 div.sk-label label {font-family: monospace;font-weight: bold;display: inline-block;line-height: 1.2em;}#sk-container-id-2 div.sk-label-container {text-align: center;}#sk-container-id-2 div.sk-container {/* jupyter's `normalize.less` sets `[hidden] { display: none; }` but bootstrap.min.css set `[hidden] { display: none !important; }` so we also need the `!important` here to be able to override the default hidden behavior on the sphinx rendered scikit-learn.org. See: https://github.com/scikit-learn/scikit-learn/issues/21755 */display: inline-block !important;position: relative;}#sk-container-id-2 div.sk-text-repr-fallback {display: none;}</style><div id=\"sk-container-id-2\" class=\"sk-top-container\"><div class=\"sk-text-repr-fallback\"><pre>LogisticRegression(max_iter=1000)</pre><b>In a Jupyter environment, please rerun this cell to show the HTML representation or trust the notebook. <br />On GitHub, the HTML representation is unable to render, please try loading this page with nbviewer.org.</b></div><div class=\"sk-container\" hidden><div class=\"sk-item\"><div class=\"sk-estimator sk-toggleable\"><input class=\"sk-toggleable__control sk-hidden--visually\" id=\"sk-estimator-id-2\" type=\"checkbox\" checked><label for=\"sk-estimator-id-2\" class=\"sk-toggleable__label sk-toggleable__label-arrow\">LogisticRegression</label><div class=\"sk-toggleable__content\"><pre>LogisticRegression(max_iter=1000)</pre></div></div></div></div></div>"
      ],
      "text/plain": [
       "LogisticRegression(max_iter=1000)"
      ]
     },
     "execution_count": 77,
     "metadata": {},
     "output_type": "execute_result"
    }
   ],
   "source": [
    "model = LogisticRegression(solver='lbfgs', max_iter=1000)\n",
    "model.fit(X_train, y_train)"
   ]
  },
  {
   "cell_type": "markdown",
   "id": "73a18ef2",
   "metadata": {},
   "source": [
    "## Testing the model\n",
    "With the model trained, we can now test it by using our test dataset (which we splitted earlier) and calculate the overall accuracy.\n",
    "\n",
    "Let's find out how accurate our model is by calculating as follows:"
   ]
  },
  {
   "cell_type": "code",
   "execution_count": 78,
   "id": "dd826929",
   "metadata": {
    "tags": []
   },
   "outputs": [
    {
     "name": "stdout",
     "output_type": "stream",
     "text": [
      "Accuracy:  0.815471965933286\n",
      "\n",
      "Confusion Matrix:\n",
      " [[933 103]\n",
      " [157 216]]\n"
     ]
    }
   ],
   "source": [
    "y_pred = model.predict(X_test)\n",
    "accuracy = accuracy_score(y_test, y_pred)\n",
    "print(\"Accuracy: \", accuracy)\n",
    "\n",
    "cm = confusion_matrix(y_test, y_pred)\n",
    "print(\"\\nConfusion Matrix:\\n\", cm)"
   ]
  },
  {
   "cell_type": "markdown",
   "id": "acf97e48",
   "metadata": {},
   "source": [
    "This will return the accuracy of our logistic regression model in predicting customer churn. \n",
    "You can experiment with different models and feature selection techniques to improve the model's performance. \n",
    "\n",
    "81% isn't that good (although as we'll see soon it's probably the best performing model on that dataset without manipulating the data) and it does show us there's something in the data that affects performance. \n",
    "Usually we'll see it earlier in the EDA stage (for instance the missing values in our table report)."
   ]
  },
  {
   "cell_type": "markdown",
   "id": "e812f19a-9539-4034-a54b-b4c1e18f11d7",
   "metadata": {},
   "source": [
    "# Let's try improving our performance by using a different model\n",
    "The model we're using together with the data we put in affects our final accuracy. We can try a different model together with some data cleaning techniques to improve our final result. Here I'll demonstrate how a simple model change can change our bottom line.\n",
    "\n",
    "To improve the model's performance, we can try a combination of techniques such as hyperparameter tuning, feature selection, and ensemble methods. In this example, we'll use a Random Forest classifier with GridSearchCV for hyperparameter tuning and feature importance analysis for feature selection.\n",
    "\n"
   ]
  },
  {
   "cell_type": "code",
   "execution_count": 79,
   "id": "3f0d700a-ba52-405e-9f75-7bd2a3f9ea48",
   "metadata": {
    "tags": []
   },
   "outputs": [
    {
     "name": "stdout",
     "output_type": "stream",
     "text": [
      "Fitting 3 folds for each of 24 candidates, totalling 72 fits\n",
      "Best Hyperparameters: {'bootstrap': True, 'max_depth': 10, 'min_samples_leaf': 1, 'min_samples_split': 2, 'n_estimators': 100}\n"
     ]
    }
   ],
   "source": [
    "# Define the parameter grid for GridSearchCV\n",
    "param_grid = {\n",
    "    'n_estimators': [100, 200, 300],\n",
    "    'max_depth': [None, 10, 20, 30],\n",
    "    'min_samples_split': [2],\n",
    "    'min_samples_leaf': [1],\n",
    "    'bootstrap': [True, False]\n",
    "}\n",
    "\n",
    "# Instantiate the RandomForestClassifier\n",
    "rf = RandomForestClassifier(random_state=42)\n",
    "\n",
    "# Perform grid search with cross-validation\n",
    "grid_search = GridSearchCV(estimator=rf, param_grid=param_grid, cv=3, verbose=2, n_jobs=-1)\n",
    "grid_search.fit(X_train, y_train)\n",
    "\n",
    "# Get the best hyperparameters\n",
    "best_params = grid_search.best_params_\n",
    "print(\"Best Hyperparameters:\", best_params)\n",
    "\n",
    "# Fit the model\n",
    "best_rf_model = RandomForestClassifier(\n",
    "    n_estimators=best_params['n_estimators'],\n",
    "    max_depth=best_params['max_depth'],\n",
    "    min_samples_split=best_params['min_samples_split'],\n",
    "    min_samples_leaf=best_params['min_samples_leaf'],\n",
    "    bootstrap=best_params['bootstrap'],\n",
    "    random_state=42\n",
    ")\n",
    "\n",
    "best_rf_model.fit(X_train, y_train)\n",
    "y_pred = best_rf_model.predict(X_test)"
   ]
  },
  {
   "cell_type": "code",
   "execution_count": 80,
   "id": "468b3b4c-7db5-4685-8475-01e25756ecc7",
   "metadata": {
    "tags": []
   },
   "outputs": [
    {
     "name": "stdout",
     "output_type": "stream",
     "text": [
      "Accuracy: 0.8069552874378992\n",
      "\n",
      "Classification Report:\n",
      "               precision    recall  f1-score   support\n",
      "\n",
      "           0       0.84      0.91      0.87      1036\n",
      "           1       0.67      0.53      0.59       373\n",
      "\n",
      "    accuracy                           0.81      1409\n",
      "   macro avg       0.76      0.72      0.73      1409\n",
      "weighted avg       0.80      0.81      0.80      1409\n",
      "\n",
      "\n",
      "Confusion Matrix:\n",
      " [[939  97]\n",
      " [175 198]]\n"
     ]
    }
   ],
   "source": [
    "# Calculate the accuracy, classification report, and confusion matrix\n",
    "accuracy = accuracy_score(y_test, y_pred)\n",
    "print(\"Accuracy:\", accuracy)\n",
    "\n",
    "report = classification_report(y_test, y_pred)\n",
    "print(\"\\nClassification Report:\\n\", report)\n",
    "\n",
    "cm = confusion_matrix(y_test, y_pred)\n",
    "print(\"\\nConfusion Matrix:\\n\", cm)\n"
   ]
  },
  {
   "cell_type": "markdown",
   "id": "836a8bdb-b823-4d09-a709-70bea3b16d11",
   "metadata": {},
   "source": [
    "We can see that not only our performance didn't improve, they detiriorated. It's usually helpful to benchmark a few of the models and pick the best performing one. Usually, this has a lower impact on the overall performance compared to the quality of our data and the way we clean it before training."
   ]
  },
  {
   "cell_type": "markdown",
   "id": "01906d66-3823-41f5-b825-c857ec757c94",
   "metadata": {
    "tags": []
   },
   "source": [
    "## Feature Importance\n",
    "\n",
    "Feature importance is a technique used in machine learning to determine the relative significance of input features in predicting the target variable. By identifying the most influential features, it helps in selecting the most relevant ones for model training, thus improving model performance and interpretability.\n",
    "\n",
    "We'll use another open source package here: [Sklearn-evaluation](https://github.com/ploomber/sklearn-evaluation), this will allow us to compare model performance, and visualize it. \n",
    "\n",
    "In the example below we'll try to evaluate our feature importance and how it affects our model:"
   ]
  },
  {
   "cell_type": "code",
   "execution_count": 81,
   "id": "46f43925-05bc-486c-be26-5e44d0869413",
   "metadata": {
    "tags": []
   },
   "outputs": [
    {
     "data": {
      "text/plain": [
       "Index(['gender', 'SeniorCitizen', 'Partner', 'Dependents', 'PhoneService',\n",
       "       'MultipleLines', 'InternetService', 'OnlineSecurity', 'OnlineBackup',\n",
       "       'DeviceProtection', 'TechSupport', 'StreamingTV', 'StreamingMovies',\n",
       "       'Contract', 'PaperlessBilling', 'PaymentMethod', 'tenure',\n",
       "       'MonthlyCharges', 'TotalCharges'],\n",
       "      dtype='object')"
      ]
     },
     "execution_count": 81,
     "metadata": {},
     "output_type": "execute_result"
    }
   ],
   "source": [
    "X.columns"
   ]
  },
  {
   "cell_type": "code",
   "execution_count": 82,
   "id": "4ad2886f-3591-46b8-83f6-521b001a8e7e",
   "metadata": {
    "tags": []
   },
   "outputs": [
    {
     "name": "stderr",
     "output_type": "stream",
     "text": [
      "/Users/idomi/opt/miniconda3/envs/jext/lib/python3.10/site-packages/scipy/stats/_morestats.py:1816: UserWarning: p-value may not be accurate for N > 5000.\n",
      "  warnings.warn(\"p-value may not be accurate for N > 5000.\")\n"
     ]
    },
    {
     "data": {
      "text/plain": [
       "<Axes: title={'center': 'Shapiro Ranking of 10 Features'}>"
      ]
     },
     "execution_count": 82,
     "metadata": {},
     "output_type": "execute_result"
    },
    {
     "data": {
      "image/png": "[encoded data removed]",
      "text/plain": [
       "<Figure size 700x700 with 1 Axes>"
      ]
     },
     "metadata": {},
     "output_type": "display_data"
    }
   ],
   "source": [
    "features = ['gender', 'SeniorCitizen', 'Partner', 'Dependents', 'PhoneService',\n",
    "       'MultipleLines', 'InternetService', 'OnlineSecurity', 'OnlineBackup',\n",
    "       'DeviceProtection', 'TechSupport', 'StreamingTV', 'StreamingMovies',\n",
    "       'Contract', 'PaperlessBilling', 'PaymentMethod', 'tenure',\n",
    "       'MonthlyCharges', 'TotalCharges']\n",
    "features_new = ['gender', 'SeniorCitizen', 'Partner', 'Dependents', 'PhoneService', \n",
    "                'MultipleLines', 'InternetService', 'OnlineSecurity', 'OnlineBackup', 'gender']\n",
    "actual = X[features_new]\n",
    "rank1d = Rank1D(features=features_new)\n",
    "rank1d.feature_ranks(actual)"
   ]
  },
  {
   "cell_type": "markdown",
   "id": "33e14015-6ec3-4b6e-8431-6029486a17e4",
   "metadata": {},
   "source": [
    "**Feature selection**: By identifying the most relevant features, it allows for the reduction of \n",
    "input dimensions, leading to simpler and more efficient models. This can help reduce overfitting and improve generalization.\n",
    "\n",
    "**Model interpretability**: Understanding the importance of different features in a model can\n",
    "provide insights into the relationships between the features and the target variable. \n",
    "This makes the model more interpretable and can help in communicating the results to non-technical stakeholders.\n",
    "\n",
    "**Better model performance**: By focusing on the most important features, models can achieve\n",
    "better performance with less data and fewer parameters. This results in faster training times and potentially improved prediction accuracy.\n",
    "\n",
    "The main advantage in our example above, we'll try to fit the model with less data, if we get to similar results, we are more efficient."
   ]
  },
  {
   "cell_type": "markdown",
   "id": "a1ec2935-e162-44e1-a090-6acb307f3b77",
   "metadata": {
    "tags": []
   },
   "source": [
    "We'll drop 3 columns according to the graph above:\n",
    "- `gender`\n",
    "- `PhoneService`\n",
    "- `SeniorCitizen`"
   ]
  },
  {
   "cell_type": "code",
   "execution_count": 40,
   "id": "5d5ae67f-5be6-49e4-8643-727e35f997b5",
   "metadata": {
    "tags": []
   },
   "outputs": [
    {
     "name": "stdout",
     "output_type": "stream",
     "text": [
      "Accuracy:  0.8119233498935415\n",
      "\n",
      "Confusion Matrix:\n",
      " [[934 102]\n",
      " [163 210]]\n"
     ]
    }
   ],
   "source": [
    "### Splitting the data into training and testing sets\n",
    "X = data_preprocessed.drop(columns=['Churn', 'SeniorCitizen', 'PhoneService', 'gender'], axis=1)\n",
    "y = data_preprocessed['Churn']\n",
    "\n",
    "X_train, X_test, y_train, y_test = train_test_split(X, y, test_size=0.2, random_state=42)\n",
    "\n",
    "model = LogisticRegression(solver='lbfgs', max_iter=2000)\n",
    "model.fit(X_train, y_train)\n",
    "\n",
    "y_pred = model.predict(X_test)\n",
    "accuracy = accuracy_score(y_test, y_pred)\n",
    "print(\"Accuracy: \", accuracy)\n",
    "\n",
    "cm = confusion_matrix(y_test, y_pred)\n",
    "print(\"\\nConfusion Matrix:\\n\", cm)"
   ]
  },
  {
   "cell_type": "markdown",
   "id": "3a1cf87b-c30d-43b6-a58b-1f039a331c22",
   "metadata": {},
   "source": [
    "We got a similar result (81% vs 85% accuracy) with 3 less columns, so essentially our model can be trained faster and save time, it all depends on what metric we're trying to optimize."
   ]
  },
  {
   "cell_type": "code",
   "execution_count": 41,
   "id": "4dae2859-2c40-4300-a664-6810687d8112",
   "metadata": {
    "tags": []
   },
   "outputs": [
    {
     "data": {
      "image/png": "[encoded data removed]",
      "text/plain": [
       "<Figure size 640x480 with 1 Axes>"
      ]
     },
     "metadata": {},
     "output_type": "display_data"
    }
   ],
   "source": [
    "# Calculate the predicted probabilities for the test data\n",
    "y_pred_proba = model.predict_proba(X_test)[:, 1]\n",
    "\n",
    "# Calculate the FPR and TPR at various thresholds\n",
    "fpr, tpr, thresholds = roc_curve(y_test, y_pred_proba)\n",
    "\n",
    "# Calculate the AUC (Area Under the Curve)\n",
    "roc_auc = auc(fpr, tpr)\n",
    "\n",
    "# Plot the ROC curve\n",
    "plt.figure()\n",
    "plt.plot(fpr, tpr, color='darkorange', lw=2, label='ROC curve (AUC = %0.2f)' % roc_auc)\n",
    "plt.plot([0, 1], [0, 1], color='navy', lw=2, linestyle='--')\n",
    "plt.xlim([0.0, 1.0])\n",
    "plt.ylim([0.0, 1.05])\n",
    "plt.xlabel('False Positive Rate')\n",
    "plt.ylabel('True Positive Rate')\n",
    "plt.title('Receiver Operating Characteristic (ROC) Curve')\n",
    "plt.legend(loc=\"lower right\")\n",
    "plt.show()"
   ]
  },
  {
   "cell_type": "markdown",
   "id": "296546c7",
   "metadata": {},
   "source": [
    "## Conclusion\n",
    "In this tutorial, we walked through a SQL-driven machine learning example using the [JupySQL](https://github.com/ploomber/jupysql) package to predict customer churn. \n",
    "\n",
    "We explored the dataset, preprocessed the data, split it into training and testing sets, trained a logistic regression model, tested it, and performed cross-validation to measure the model's performance.\n",
    "\n",
    "You can continue to experiment with different machine learning algorithms and feature selection techniques to improve your model's performance. Additionally, you can integrate this SQL-driven approach into your data pipeline to automate and scale your machine learning projects.\n",
    "\n",
    "Feel free to connect and stay in touch!\n",
    "\n",
    "Ido - ido@ploomber.io"
   ]
  },
  {
   "cell_type": "markdown",
   "id": "6db9ca9a-7f5f-429d-ac8a-298a1b2f14b7",
   "metadata": {
    "tags": []
   },
   "source": [
    "# Questions?"
   ]
  }
 ],
 "metadata": {
  "jupytext": {
   "cell_metadata_filter": "magic_args,-all",
   "main_language": "sql",
   "notebook_metadata_filter": "-all"
  },
  "kernelspec": {
   "display_name": "Python 3 (ipykernel)",
   "language": "python",
   "name": "python3"
  },
  "language_info": {
   "codemirror_mode": {
    "name": "ipython",
    "version": 3
   },
   "file_extension": ".py",
   "mimetype": "text/x-python",
   "name": "python",
   "nbconvert_exporter": "python",
   "pygments_lexer": "ipython3",
   "version": "3.10.10"
  }
 },
 "nbformat": 4,
 "nbformat_minor": 5
}
